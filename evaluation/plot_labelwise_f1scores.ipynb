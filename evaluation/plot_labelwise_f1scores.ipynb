{
 "cells": [
  {
   "cell_type": "markdown",
   "metadata": {},
   "source": [
    "This script creates the labelwise f-scores for each task, as shown in the Appendix."
   ]
  },
  {
   "cell_type": "code",
   "execution_count": 1,
   "metadata": {},
   "outputs": [],
   "source": [
    "from matplotlib import pyplot as plt\n",
    "import pandas as pd\n",
    "from datetime import date\n",
    "import seaborn as sns\n",
    "import os\n",
    "from eval_helper_functions import get_task_path_dict, get_pred_label_files, get_pred_label_files_MT\n"
   ]
  },
  {
   "cell_type": "code",
   "execution_count": 2,
   "metadata": {},
   "outputs": [
    {
     "name": "stdout",
     "output_type": "stream",
     "text": [
      "True\n"
     ]
    }
   ],
   "source": [
    "# input dir\n",
    "# input dir\n",
    "result_collection = os.path.join(\"..\", \"model_output\")\n",
    "print(os.path.exists(result_collection))\n",
    "\n",
    "model_types = [\"LOGR\", \"CNN\", \"HISAN\", \"BERT\",\"MTCNN\", \"MTHISAN\", \"MTBERT\"]\n",
    "\n",
    "model_color = {\"LOGR\": \"Greys\", \n",
    "               \"CNN\" :\"Oranges\", \"MTCNN_2\": \"YlOrBr\", \"MTCNN_3\": \"YlOrRd\",\n",
    "               \"HISAN\": \"Greens\", \"MTHISAN_2\": \"YlGn\", \"MTHISAN_3\":\"BuGn\",\n",
    "               \"BERT\" : \"Purples\", \"MTBERT_2\": \"RdPu\", \"MTBERT_3\": \"PuRd\"}\n",
    "\n",
    "tasks = [\"mor\", \"sit2\", \"sit3\", \"his\", \"beh\", \"sit\"]\n",
    "mt_tasks = [\"morsit\", \"behhissit\"]\n",
    "# note: KB-BERT was abbreviated to BERT in the filenames"
   ]
  },
  {
   "cell_type": "code",
   "execution_count": 3,
   "metadata": {},
   "outputs": [],
   "source": [
    "output_dir = os.path.join(\"..\", \"plots\", f\"{date.today()}_f1_labelwise_plots_all_folds\")\n",
    "if not os.path.exists(output_dir):\n",
    "    os.mkdir(output_dir)"
   ]
  },
  {
   "cell_type": "code",
   "execution_count": 4,
   "metadata": {},
   "outputs": [
    {
     "name": "stdout",
     "output_type": "stream",
     "text": [
      "Creating plots for model LOGR, (cws True), tasks ['mor', 'his', 'beh', 'sit']...\n",
      "Creating plots for model LOGR, (cws False), tasks ['mor', 'his', 'beh', 'sit']...\n",
      "Creating plots for model CNN, (cws True), tasks ['mor', 'his', 'beh', 'sit']...\n",
      "Creating plots for model CNN, (cws False), tasks ['mor', 'his', 'beh', 'sit']...\n",
      "Creating plots for model HISAN, (cws True), tasks ['mor', 'his', 'beh', 'sit']...\n",
      "Creating plots for model HISAN, (cws False), tasks ['mor', 'his', 'beh', 'sit']...\n",
      "Creating plots for model BERT, (cws True), tasks ['mor', 'his', 'beh', 'sit']...\n",
      "Creating plots for model BERT, (cws False), tasks ['mor', 'his', 'beh', 'sit']...\n",
      "Creating plots for model MTCNN, (cws True), tasks ['sit2', 'mor', 'sit3', 'his', 'beh']...\n",
      "Creating plots for model MTCNN, (cws False), tasks ['sit2', 'mor', 'sit3', 'his', 'beh']...\n",
      "Creating plots for model MTHISAN, (cws True), tasks ['sit2', 'mor', 'sit3', 'his', 'beh']...\n",
      "Creating plots for model MTHISAN, (cws False), tasks ['sit2', 'mor', 'sit3', 'his', 'beh']...\n",
      "Creating plots for model MTBERT, (cws True), tasks ['sit2', 'mor', 'sit3', 'his', 'beh']...\n",
      "Creating plots for model MTBERT, (cws False), tasks ['sit2', 'mor', 'sit3', 'his', 'beh']...\n"
     ]
    }
   ],
   "source": [
    "filename =\"labelwise_f1\"\n",
    "\n",
    "for model in model_types:\n",
    "    for cw_flag in [True, False]:\n",
    "        if \"MT\" not in model:\n",
    "            task_dict = get_task_path_dict(result_collection, model_type=model, tasks=tasks)\n",
    "            pred_true_label_files = get_pred_label_files(task_path_dict=task_dict,\n",
    "                                                    pred_true_labels_filename=f\"{filename}.csv\",\n",
    "                                                    cw_flag=cw_flag)\n",
    "        else:\n",
    "            task_dict = get_task_path_dict(result_collection, model_type=model, tasks=mt_tasks)\n",
    "            pred_true_label_files = get_pred_label_files_MT(task_path_dict=task_dict,\n",
    "                                                            pred_true_labels_filename=f\"{filename}_.csv\",\n",
    "                                                            cw_flag=cw_flag)\n",
    "        \n",
    "        print(f\"Creating plots for model {model}, (cws {cw_flag}), tasks {list(pred_true_label_files.keys())}...\")\n",
    "        for task in tasks:\n",
    "            \n",
    "            if task not in pred_true_label_files.keys():\n",
    "                continue\n",
    "\n",
    "            # create dict with labelwise macro f1-scores (stored in dfs) for all folds\n",
    "            dfs_x5 = dict()\n",
    "            for fold in range(1, 6):\n",
    "                conf_df = pd.read_csv(pred_true_label_files[task][str(fold)], index_col=0)\n",
    "                dfs_x5[fold] = conf_df\n",
    "            combined_list = []\n",
    "            for key, df in dfs_x5.items():\n",
    "                # add column to save fold -> needed in grouped bar plot\n",
    "                df['Fold'] = key\n",
    "                combined_list.append(df)\n",
    "\n",
    "            # merge all folds into one df (Fold col allows tracing back the fold)\n",
    "            combined_df = pd.concat(combined_list, ignore_index=True)\n",
    "\n",
    "\n",
    "            ## create merged plots: \n",
    "\n",
    "            # set suffix for clean title of plots\n",
    "            if cw_flag:\n",
    "                cw_suffix = \"(+cw)\"\n",
    "            else:\n",
    "                cw_suffix = \"(-cw)\"\n",
    "\n",
    "            if \"MT\" in model:\n",
    "                if task in [\"sit2\", \"mor\"]:\n",
    "                    model_name = f\"{model}\" + r\"$_2$\"\n",
    "                else:\n",
    "                    model_name = f\"{model}\" + r\"$_3$\"\n",
    "            else:\n",
    "                model_name = model\n",
    "\n",
    "\n",
    "            \n",
    "            if \"sit\" in task:\n",
    "                plt.figure(figsize=(10, 3)) # slightly smaller to fit on one page in report\n",
    "            else:\n",
    "                plt.figure(figsize=(10, 4))\n",
    "\n",
    "            # access correct color pallette for each model (specified in beginning of script)\n",
    "            if \"MT\" in model:\n",
    "                if task in [\"sit3\", \"beh\", \"his\"]:\n",
    "                    palette_col = model + \"_3\"\n",
    "                elif task in [\"sit2\", \"mor\"]:\n",
    "                    palette_col = model + \"_2\"\n",
    "                else:\n",
    "                    raise ValueError\n",
    "            else:\n",
    "                palette_col = model\n",
    "            palette = sns.color_palette(model_color[f\"{palette_col}\"], n_colors=len(dfs_x5))\n",
    "\n",
    "            # barplot for one model, cw setting, task with 5 bars (=one for each fold)\n",
    "            sns.barplot(x='labels', y='labelwise_f1_scores', hue='Fold', data=combined_df, legend=False, palette=palette)\n",
    "\n",
    "            plt.xlabel('Classes', fontsize=14)\n",
    "            plt.ylabel('Labelwise F-Scores', fontsize=14)\n",
    "            plt.title(f\"{model_name} {cw_suffix}\", fontsize=16)\n",
    "            plt.xticks(fontsize=16, rotation=45)\n",
    "            plt.tight_layout()\n",
    "\n",
    "            # save in subdirs of output dir\n",
    "            if not os.path.exists(os.path.join(output_dir, model)):\n",
    "                os.mkdir(os.path.join(output_dir, model))\n",
    "\n",
    "            plt.savefig(os.path.join(output_dir, model, f\"{cw_flag}_{model}_{task}.png\"))\n",
    "            plt.close()"
   ]
  },
  {
   "cell_type": "code",
   "execution_count": null,
   "metadata": {},
   "outputs": [],
   "source": []
  }
 ],
 "metadata": {
  "kernelspec": {
   "display_name": ".venv",
   "language": "python",
   "name": "python3"
  },
  "language_info": {
   "codemirror_mode": {
    "name": "ipython",
    "version": 3
   },
   "file_extension": ".py",
   "mimetype": "text/x-python",
   "name": "python",
   "nbconvert_exporter": "python",
   "pygments_lexer": "ipython3",
   "version": "3.10.12"
  }
 },
 "nbformat": 4,
 "nbformat_minor": 2
}
