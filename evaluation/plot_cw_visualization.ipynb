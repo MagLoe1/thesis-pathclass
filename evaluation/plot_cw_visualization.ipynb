{
 "cells": [
  {
   "cell_type": "markdown",
   "metadata": {},
   "source": [
    "This script creates the class weight plots shown in the Methods chapter."
   ]
  },
  {
   "cell_type": "code",
   "execution_count": 1,
   "metadata": {},
   "outputs": [],
   "source": [
    "import pandas as pd\n",
    "import os\n",
    "from datetime import date\n",
    "from matplotlib import pyplot as plt"
   ]
  },
  {
   "cell_type": "code",
   "execution_count": 2,
   "metadata": {},
   "outputs": [],
   "source": [
    "# input dir\n",
    "in_dir = os.path.join(\"..\", \"data\", \"class_weights_overview\")\n",
    "tasks = [\"morphology\", \"histology\", \"behavior\", \"site\"]\n",
    "assert os.path.exists(in_dir)"
   ]
  },
  {
   "cell_type": "code",
   "execution_count": 3,
   "metadata": {},
   "outputs": [],
   "source": [
    "# output dir\n",
    "store_results_dir = os.path.join(\"..\", \"plots\", f\"{date.today()}_cw_visualization\")\n",
    "if not os.path.exists(store_results_dir):\n",
    "    os.mkdir(store_results_dir)"
   ]
  },
  {
   "cell_type": "code",
   "execution_count": 4,
   "metadata": {},
   "outputs": [
    {
     "name": "stdout",
     "output_type": "stream",
     "text": [
      "Created class weight plot for task  morphology\n",
      "Created class weight plot for task  histology\n",
      "Created class weight plot for task  behavior\n",
      "Created class weight plot for task  site\n"
     ]
    }
   ],
   "source": [
    "for task in tasks:\n",
    "    file = os.path.join(in_dir, f\"class_weights_{task}.csv\")\n",
    "    df = pd.read_csv(file, header=0, index_col=0)\n",
    "\n",
    "    # add column with shortened class weight names for grouping + legend in plot\n",
    "    df[\"cw_type_short\"] = [val[:3] for val in df[\"cw_type+fold\"].values]\n",
    "    df[\"cw_type_short\"] = [\"μ=1\" if val == \"bl1\" else val for val in df[\"cw_type_short\"].values]\n",
    "    df[\"cw_type_short\"] = [\"μ=0.15\" if val == \"bl0\" else val for val in df[\"cw_type_short\"].values]\n",
    "    \n",
    "    # exclude first column with long names\n",
    "    df = df.iloc[:, 1:]\n",
    "    \n",
    "    # get means over folds\n",
    "    # transpose: index=class labels, cols=cw_types_short\n",
    "    pivot_df = df.groupby(\"cw_type_short\").mean().transpose()\n",
    "\n",
    "    # adjust plot size to number of classes per task\n",
    "    if task == \"morphology\" or task == \"histology\":\n",
    "        fig_size = (15, 5)\n",
    "    else:\n",
    "        fig_size = (5, 4)\n",
    "\n",
    "    pivot_df.plot(kind=\"bar\", figsize=fig_size, colormap=\"Paired\")\n",
    "    plt.xlabel(f\"Classes\")\n",
    "    plt.ylabel(\"Class weight\")\n",
    "    plt.legend(loc=\"upper left\")\n",
    "    \n",
    "    # font sizes\n",
    "    plt.rc(\"axes\", titlesize=15)\n",
    "    plt.rc(\"axes\", labelsize=15)\n",
    "    plt.rc(\"xtick\", labelsize=20)\n",
    "    plt.rc(\"ytick\", labelsize=20)\n",
    "    plt.rc(\"legend\", fontsize=15)\n",
    "    plt.tight_layout()\n",
    "\n",
    "    # save file to output file\n",
    "    plt.savefig(os.path.join(store_results_dir, f\"{task}_cws.png\"))\n",
    "    print(\"Created class weight plot for task \", task)\n",
    "    plt.close()\n"
   ]
  },
  {
   "cell_type": "code",
   "execution_count": null,
   "metadata": {},
   "outputs": [],
   "source": []
  }
 ],
 "metadata": {
  "kernelspec": {
   "display_name": ".venv",
   "language": "python",
   "name": "python3"
  },
  "language_info": {
   "codemirror_mode": {
    "name": "ipython",
    "version": 3
   },
   "file_extension": ".py",
   "mimetype": "text/x-python",
   "name": "python",
   "nbconvert_exporter": "python",
   "pygments_lexer": "ipython3",
   "version": "3.10.12"
  }
 },
 "nbformat": 4,
 "nbformat_minor": 2
}
